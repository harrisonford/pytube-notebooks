{
 "cells": [
  {
   "cell_type": "markdown",
   "metadata": {
    "collapsed": true,
    "pycharm": {
     "name": "#%% md\n"
    }
   },
   "source": [
    "# Comparing Speech Analytics Models"
   ]
  },
  {
   "cell_type": "code",
   "execution_count": 2,
   "outputs": [],
   "source": [
    "import pandas as pd"
   ],
   "metadata": {
    "collapsed": false,
    "pycharm": {
     "name": "#%%\n"
    }
   }
  },
  {
   "cell_type": "markdown",
   "source": [
    "## Loading csv files"
   ],
   "metadata": {
    "collapsed": false,
    "pycharm": {
     "name": "#%% md\n"
    }
   }
  },
  {
   "cell_type": "code",
   "execution_count": 3,
   "outputs": [],
   "source": [
    "# load the real file\n",
    "df_real = pd.read_csv('real.csv', names=['file', 'transcript'])\n",
    "# load the model file\n",
    "df_model = pd.read_csv('no_ipa.csv', names=['file', 'transcript'])\n"
   ],
   "metadata": {
    "collapsed": false,
    "pycharm": {
     "name": "#%%\n"
    }
   }
  },
  {
   "cell_type": "markdown",
   "source": [
    "## Comparing Two lines"
   ],
   "metadata": {
    "collapsed": false,
    "pycharm": {
     "name": "#%% md\n"
    }
   }
  },
  {
   "cell_type": "code",
   "execution_count": 9,
   "outputs": [],
   "source": [
    "# function that neutralizes the string\n",
    "def neutralize(a_string):\n",
    "    return a_string.lower()\n",
    "\n",
    "# function that calculates percentage of similarity\n",
    "def similarity_score(string_real, string_model, extra_info=False):\n",
    "\n",
    "    # cut strings to bag of words\n",
    "    words_real = neutralize(string_real).split(' ')\n",
    "    count = 0\n",
    "    error_words = []\n",
    "    for word in words_real:\n",
    "        # search word in string_model\n",
    "        if word in neutralize(string_model):\n",
    "            count = count + 1\n",
    "        else:\n",
    "            error_words.append(word)\n",
    "\n",
    "    score = count / len(words_real)\n",
    "    if extra_info:\n",
    "        return score, error_words\n",
    "\n",
    "    return score"
   ],
   "metadata": {
    "collapsed": false,
    "pycharm": {
     "name": "#%%\n"
    }
   }
  },
  {
   "cell_type": "code",
   "execution_count": 10,
   "outputs": [
    {
     "name": "stdout",
     "output_type": "stream",
     "text": [
      "0.8\n",
      "['alo', 'tardes?', 'hablo', 'perez', 'conversacion', 'socofin', 'credichile', 'inpago', 'credito', 'dosmil', 'veinte,', 'cancelo', 'dia']\n"
     ]
    }
   ],
   "source": [
    "scr, failed_words = similarity_score(df_real['transcript'][0], df_model['transcript'][0],\n",
    "                                     extra_info=True)\n",
    "print(scr)\n",
    "print(failed_words)"
   ],
   "metadata": {
    "collapsed": false,
    "pycharm": {
     "name": "#%%\n"
    }
   }
  },
  {
   "cell_type": "markdown",
   "source": [
    "## Comparing two dataframes\n",
    "To compare two dataframes we can use the function we just made but taking care that we\n",
    "use the correct file from each row."
   ],
   "metadata": {
    "collapsed": false,
    "pycharm": {
     "name": "#%% md\n"
    }
   }
  },
  {
   "cell_type": "code",
   "execution_count": 18,
   "outputs": [],
   "source": [
    "def similarity_score_dataframes(_df_real, _df_model):\n",
    "    score_list = []\n",
    "\n",
    "    for a_file, a_string in zip(_df_model['file'], _df_model['transcript']):\n",
    "        # first, we search for file in real\n",
    "        real_str = _df_real[_df_real['file']==a_file]['transcript']\n",
    "\n",
    "        # files should be 1:1, if not, we riot\n",
    "        if len(real_str) != 1:\n",
    "            AttributeError('Dude files are not 1:1 in ' + a_file)\n",
    "\n",
    "        # otherwise let's continue calculating the score\n",
    "        print(real_str.array)\n",
    "        score, fails = similarity_score(real_str.array[0], a_string, extra_info=True)\n",
    "        score_list.append((a_file, score, fails))\n",
    "\n",
    "    return pd.DataFrame(score_list, columns=['file', 'score', 'failed_words'])"
   ],
   "metadata": {
    "collapsed": false,
    "pycharm": {
     "name": "#%%\n"
    }
   }
  },
  {
   "cell_type": "code",
   "execution_count": 19,
   "outputs": [
    {
     "name": "stdout",
     "output_type": "stream",
     "text": [
      "<PandasArray>\n",
      "['alo buenas tardes? hablo con don manuel perez rojo si don manuel habla con su ejecutiva virtual para su seguridad esta conversacion podría ser grabada lo estamos llamando de Socofin por encargo de Banco CrediChile para informarle que se encuentra inpago su credito de consumo con fecha cinco de noviembre de dosmil veinte, si usted ya cancelo favor omitir este mensaje que tenga buen dia']\n",
      "Length: 1, dtype: object\n",
      "<PandasArray>\n",
      "['alo buenas tardes? hablo con don manuel perez rojo si don manuel habla con su ejecutiva virtual para su seguridad esta conversacion podría ser grabada lo estamos llamando de Socofin por encargo de Banco CrediChile para informarle que se encuentra inpago su credito de consumo con fecha cinco de noviembre de dosmil veinte, si usted ya cancelo favor omitir este mensaje que tenga buen dia']\n",
      "Length: 1, dtype: object\n"
     ]
    },
    {
     "data": {
      "text/plain": "                                                file  score  \\\n0  100884402_995867770_100179896630201118_2020111...    0.8   \n1  100884402_995867770_100179896630201118_2020111...    0.8   \n\n                                        failed_words  \n0  [alo, tardes?, hablo, perez, conversacion, soc...  \n1  [alo, tardes?, hablo, perez, conversacion, soc...  ",
      "text/html": "<div>\n<style scoped>\n    .dataframe tbody tr th:only-of-type {\n        vertical-align: middle;\n    }\n\n    .dataframe tbody tr th {\n        vertical-align: top;\n    }\n\n    .dataframe thead th {\n        text-align: right;\n    }\n</style>\n<table border=\"1\" class=\"dataframe\">\n  <thead>\n    <tr style=\"text-align: right;\">\n      <th></th>\n      <th>file</th>\n      <th>score</th>\n      <th>failed_words</th>\n    </tr>\n  </thead>\n  <tbody>\n    <tr>\n      <th>0</th>\n      <td>100884402_995867770_100179896630201118_2020111...</td>\n      <td>0.8</td>\n      <td>[alo, tardes?, hablo, perez, conversacion, soc...</td>\n    </tr>\n    <tr>\n      <th>1</th>\n      <td>100884402_995867770_100179896630201118_2020111...</td>\n      <td>0.8</td>\n      <td>[alo, tardes?, hablo, perez, conversacion, soc...</td>\n    </tr>\n  </tbody>\n</table>\n</div>"
     },
     "execution_count": 19,
     "metadata": {},
     "output_type": "execute_result"
    }
   ],
   "source": [
    "scr_list = similarity_score_dataframes(df_real, df_model)\n",
    "scr_list.head()\n"
   ],
   "metadata": {
    "collapsed": false,
    "pycharm": {
     "name": "#%%\n"
    }
   }
  }
 ],
 "metadata": {
  "kernelspec": {
   "display_name": "Python 3",
   "language": "python",
   "name": "python3"
  },
  "language_info": {
   "codemirror_mode": {
    "name": "ipython",
    "version": 2
   },
   "file_extension": ".py",
   "mimetype": "text/x-python",
   "name": "python",
   "nbconvert_exporter": "python",
   "pygments_lexer": "ipython2",
   "version": "2.7.6"
  }
 },
 "nbformat": 4,
 "nbformat_minor": 0
}