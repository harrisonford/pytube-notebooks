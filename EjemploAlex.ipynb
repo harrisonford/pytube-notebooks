{
 "cells": [
  {
   "cell_type": "markdown",
   "metadata": {
    "collapsed": true,
    "pycharm": {
     "name": "#%% md\n"
    }
   },
   "source": [
    "# Comparing Speech Analytics Models"
   ]
  },
  {
   "cell_type": "code",
   "execution_count": 1,
   "outputs": [],
   "source": [
    "import pandas as pd\n",
    "import matplotlib.pyplot as plt\n",
    "import seaborn as sb\n",
    "import random as rd\n",
    "from adaptors import youtube2df, aws2df"
   ],
   "metadata": {
    "collapsed": false,
    "pycharm": {
     "name": "#%%\n"
    }
   }
  },
  {
   "cell_type": "markdown",
   "source": [
    "## Loading csv files"
   ],
   "metadata": {
    "collapsed": false,
    "pycharm": {
     "name": "#%% md\n"
    }
   }
  },
  {
   "cell_type": "code",
   "execution_count": 2,
   "outputs": [],
   "source": [
    "# load the real file\n",
    "df_real = pd.read_csv('real.csv', names=['file', 'transcript'])\n",
    "# load the model file\n",
    "df_model = pd.read_csv('no_ipa.csv', names=['file', 'transcript'])\n"
   ],
   "metadata": {
    "collapsed": false,
    "pycharm": {
     "name": "#%%\n"
    }
   }
  },
  {
   "cell_type": "markdown",
   "source": [
    "## Comparing Two lines"
   ],
   "metadata": {
    "collapsed": false,
    "pycharm": {
     "name": "#%% md\n"
    }
   }
  },
  {
   "cell_type": "code",
   "execution_count": 2,
   "outputs": [],
   "source": [
    "# function that neutralizes the string\n",
    "def neutralize(a_string):\n",
    "    return a_string.lower()\n",
    "\n",
    "# function that calculates percentage of similarity\n",
    "def similarity_score(string_real, string_model, extra_info=False):\n",
    "\n",
    "    # cut strings to bag of words\n",
    "    words_real = neutralize(string_real).split(' ')\n",
    "    count = 0\n",
    "    error_words = []\n",
    "    for word in words_real:\n",
    "        # search word in string_model\n",
    "        if word in neutralize(string_model):\n",
    "            count = count + 1\n",
    "        else:\n",
    "            error_words.append(word)\n",
    "\n",
    "    score = count / len(words_real)\n",
    "    if extra_info:\n",
    "        return score, error_words\n",
    "\n",
    "    return score"
   ],
   "metadata": {
    "collapsed": false,
    "pycharm": {
     "name": "#%%\n"
    }
   }
  },
  {
   "cell_type": "code",
   "execution_count": 4,
   "outputs": [
    {
     "name": "stdout",
     "output_type": "stream",
     "text": [
      "0.8\n",
      "['alo', 'tardes?', 'hablo', 'perez', 'conversacion', 'socofin', 'credichile', 'inpago', 'credito', 'dosmil', 'veinte,', 'cancelo', 'dia']\n"
     ]
    }
   ],
   "source": [
    "scr, failed_words = similarity_score(df_real['transcript'][0], df_model['transcript'][0],\n",
    "                                     extra_info=True)\n",
    "print(scr)\n",
    "print(failed_words)"
   ],
   "metadata": {
    "collapsed": false,
    "pycharm": {
     "name": "#%%\n"
    }
   }
  },
  {
   "cell_type": "markdown",
   "source": [
    "## Comparing two dataframes\n",
    "To compare two dataframes we can use the function we just made but taking care that we\n",
    "use the correct file from each row."
   ],
   "metadata": {
    "collapsed": false,
    "pycharm": {
     "name": "#%% md\n"
    }
   }
  },
  {
   "cell_type": "code",
   "execution_count": 5,
   "outputs": [],
   "source": [
    "def similarity_score_dataframes(_df_real, _df_model):\n",
    "    score_list = []\n",
    "\n",
    "    for _a_file, a_string in zip(_df_model['file'], _df_model['transcript']):\n",
    "        # first, we search for file in real\n",
    "        real_str = _df_real[_df_real['file']==_a_file]['transcript']\n",
    "\n",
    "        # files should be 1:1, if not, we riot\n",
    "        if len(real_str) != 1:\n",
    "            AttributeError('Dude files are not 1:1 in ' + _a_file)\n",
    "\n",
    "        # otherwise let's continue calculating the score\n",
    "        print(real_str.array)\n",
    "        score, fails = similarity_score(real_str.array[0], a_string, extra_info=True)\n",
    "        score_list.append((_a_file, score, fails))\n",
    "\n",
    "    return pd.DataFrame(score_list, columns=['file', 'score', 'failed_words'])"
   ],
   "metadata": {
    "collapsed": false,
    "pycharm": {
     "name": "#%%\n"
    }
   }
  },
  {
   "cell_type": "code",
   "execution_count": 6,
   "outputs": [
    {
     "name": "stdout",
     "output_type": "stream",
     "text": [
      "<PandasArray>\n",
      "['alo buenas tardes? hablo con don manuel perez rojo si don manuel habla con su ejecutiva virtual para su seguridad esta conversacion podría ser grabada lo estamos llamando de Socofin por encargo de Banco CrediChile para informarle que se encuentra inpago su credito de consumo con fecha cinco de noviembre de dosmil veinte, si usted ya cancelo favor omitir este mensaje que tenga buen dia']\n",
      "Length: 1, dtype: object\n",
      "<PandasArray>\n",
      "['alo buenas tardes? hablo con don manuel perez rojo si don manuel habla con su ejecutiva virtual para su seguridad esta conversacion podría ser grabada lo estamos llamando de Socofin por encargo de Banco CrediChile para informarle que se encuentra inpago su credito de consumo con fecha cinco de noviembre de dosmil veinte, si usted ya cancelo favor omitir este mensaje que tenga buen dia']\n",
      "Length: 1, dtype: object\n"
     ]
    },
    {
     "data": {
      "text/plain": "                                                file  score  \\\n0  100884402_995867770_100179896630201118_2020111...    0.8   \n1  100884402_995867770_100179896630201118_2020111...    0.8   \n\n                                        failed_words  \n0  [alo, tardes?, hablo, perez, conversacion, soc...  \n1  [alo, tardes?, hablo, perez, conversacion, soc...  ",
      "text/html": "<div>\n<style scoped>\n    .dataframe tbody tr th:only-of-type {\n        vertical-align: middle;\n    }\n\n    .dataframe tbody tr th {\n        vertical-align: top;\n    }\n\n    .dataframe thead th {\n        text-align: right;\n    }\n</style>\n<table border=\"1\" class=\"dataframe\">\n  <thead>\n    <tr style=\"text-align: right;\">\n      <th></th>\n      <th>file</th>\n      <th>score</th>\n      <th>failed_words</th>\n    </tr>\n  </thead>\n  <tbody>\n    <tr>\n      <th>0</th>\n      <td>100884402_995867770_100179896630201118_2020111...</td>\n      <td>0.8</td>\n      <td>[alo, tardes?, hablo, perez, conversacion, soc...</td>\n    </tr>\n    <tr>\n      <th>1</th>\n      <td>100884402_995867770_100179896630201118_2020111...</td>\n      <td>0.8</td>\n      <td>[alo, tardes?, hablo, perez, conversacion, soc...</td>\n    </tr>\n  </tbody>\n</table>\n</div>"
     },
     "execution_count": 6,
     "metadata": {},
     "output_type": "execute_result"
    }
   ],
   "source": [
    "scr_list = similarity_score_dataframes(df_real, df_model)\n",
    "scr_list.head()\n"
   ],
   "metadata": {
    "collapsed": false,
    "pycharm": {
     "name": "#%%\n"
    }
   }
  },
  {
   "cell_type": "markdown",
   "source": [
    "## Example plot for model comparison\n",
    "We use seaborn box-plots to check performance between two models."
   ],
   "metadata": {
    "collapsed": false,
    "pycharm": {
     "name": "#%% md\n"
    }
   }
  },
  {
   "cell_type": "code",
   "execution_count": 7,
   "outputs": [
    {
     "data": {
      "text/plain": "<Figure size 432x288 with 1 Axes>",
      "image/png": "[encoded data removed]"
     },
     "metadata": {
      "needs_background": "light"
     },
     "output_type": "display_data"
    }
   ],
   "source": [
    "# we simulate to score lists\n",
    "N = 1000\n",
    "days = ['monday', 'friday', 'sunday']\n",
    "good_model = [rd.gauss(0.7, 0.1) for i in range(N)]\n",
    "bad_model = [rd.gauss(0.65, 0.05) for j in range(N)]\n",
    "\n",
    "# transform my two lists in a dataframe\n",
    "good_tuples = [('good_model', a_score, days[index%3]) for index, a_score in enumerate(good_model)]\n",
    "bad_tuples = [('bad_model', a_score, days[index%3]) for index, a_score in enumerate(bad_model)]\n",
    "\n",
    "df = pd.DataFrame(good_tuples + bad_tuples, columns=['model', 'score', 'day'])\n",
    "\n",
    "sb.boxplot(data=df, x='day', y='score', hue='model')\n",
    "plt.show()"
   ],
   "metadata": {
    "collapsed": false,
    "pycharm": {
     "name": "#%%\n"
    }
   }
  },
  {
   "cell_type": "markdown",
   "source": [
    "## Transform Youtube caps and AWS\n",
    "We need to create an internal function to translate from one file to another easily, to do this, we\n",
    "transform both files to a dataframe with fields in common."
   ],
   "metadata": {
    "collapsed": false,
    "pycharm": {
     "name": "#%% md\n"
    }
   }
  },
  {
   "cell_type": "code",
   "execution_count": 7,
   "outputs": [
    {
     "data": {
      "text/plain": "  orig_index    start      end  \\\n0          1  103.916  107.333   \n1          2  110.083  111.375   \n2          3  111.375  113.541   \n3          4  114.916  116.833   \n4          5  126.916  128.416   \n\n                                        transcript  \n0  ¡Me ha traído puros problemas este lugar, weón!  \n1      <b>Me voy a electrocutar ahora, culiao.</b>  \n2               <b>Te apuesto, eso va a pasar.</b>  \n3                   <b>Tomás, culiao, también.</b>  \n4                               <b>Ay, weón...</b>  ",
      "text/html": "<div>\n<style scoped>\n    .dataframe tbody tr th:only-of-type {\n        vertical-align: middle;\n    }\n\n    .dataframe tbody tr th {\n        vertical-align: top;\n    }\n\n    .dataframe thead th {\n        text-align: right;\n    }\n</style>\n<table border=\"1\" class=\"dataframe\">\n  <thead>\n    <tr style=\"text-align: right;\">\n      <th></th>\n      <th>orig_index</th>\n      <th>start</th>\n      <th>end</th>\n      <th>transcript</th>\n    </tr>\n  </thead>\n  <tbody>\n    <tr>\n      <th>0</th>\n      <td>1</td>\n      <td>103.916</td>\n      <td>107.333</td>\n      <td>¡Me ha traído puros problemas este lugar, weón!</td>\n    </tr>\n    <tr>\n      <th>1</th>\n      <td>2</td>\n      <td>110.083</td>\n      <td>111.375</td>\n      <td>&lt;b&gt;Me voy a electrocutar ahora, culiao.&lt;/b&gt;</td>\n    </tr>\n    <tr>\n      <th>2</th>\n      <td>3</td>\n      <td>111.375</td>\n      <td>113.541</td>\n      <td>&lt;b&gt;Te apuesto, eso va a pasar.&lt;/b&gt;</td>\n    </tr>\n    <tr>\n      <th>3</th>\n      <td>4</td>\n      <td>114.916</td>\n      <td>116.833</td>\n      <td>&lt;b&gt;Tomás, culiao, también.&lt;/b&gt;</td>\n    </tr>\n    <tr>\n      <th>4</th>\n      <td>5</td>\n      <td>126.916</td>\n      <td>128.416</td>\n      <td>&lt;b&gt;Ay, weón...&lt;/b&gt;</td>\n    </tr>\n  </tbody>\n</table>\n</div>"
     },
     "execution_count": 7,
     "metadata": {},
     "output_type": "execute_result"
    }
   ],
   "source": [
    "frame = youtube2df('./EdoCaroe/video_0_es-419.txt')\n",
    "frame.head()\n"
   ],
   "metadata": {
    "collapsed": false,
    "pycharm": {
     "name": "#%%\n"
    }
   }
  },
  {
   "cell_type": "code",
   "execution_count": 8,
   "outputs": [
    {
     "data": {
      "text/plain": "  start   end  transcript\n0  0.04  0.51          La\n1  0.51  1.03     Fallida\n2  1.03  1.73  actuaciÃ³n\n3  1.74  1.92          en\n4  1.92  3.08    Rancagua",
      "text/html": "<div>\n<style scoped>\n    .dataframe tbody tr th:only-of-type {\n        vertical-align: middle;\n    }\n\n    .dataframe tbody tr th {\n        vertical-align: top;\n    }\n\n    .dataframe thead th {\n        text-align: right;\n    }\n</style>\n<table border=\"1\" class=\"dataframe\">\n  <thead>\n    <tr style=\"text-align: right;\">\n      <th></th>\n      <th>start</th>\n      <th>end</th>\n      <th>transcript</th>\n    </tr>\n  </thead>\n  <tbody>\n    <tr>\n      <th>0</th>\n      <td>0.04</td>\n      <td>0.51</td>\n      <td>La</td>\n    </tr>\n    <tr>\n      <th>1</th>\n      <td>0.51</td>\n      <td>1.03</td>\n      <td>Fallida</td>\n    </tr>\n    <tr>\n      <th>2</th>\n      <td>1.03</td>\n      <td>1.73</td>\n      <td>actuaciÃ³n</td>\n    </tr>\n    <tr>\n      <th>3</th>\n      <td>1.74</td>\n      <td>1.92</td>\n      <td>en</td>\n    </tr>\n    <tr>\n      <th>4</th>\n      <td>1.92</td>\n      <td>3.08</td>\n      <td>Rancagua</td>\n    </tr>\n  </tbody>\n</table>\n</div>"
     },
     "execution_count": 8,
     "metadata": {},
     "output_type": "execute_result"
    }
   ],
   "source": [
    "frame = aws2df('video_0.json')\n",
    "frame.head()"
   ],
   "metadata": {
    "collapsed": false,
    "pycharm": {
     "name": "#%%\n"
    }
   }
  },
  {
   "cell_type": "code",
   "execution_count": 9,
   "outputs": [
    {
     "data": {
      "text/plain": "  orig_index  start     end                               transcript\n0          2   3.27   6.870  problema de este lugar web sin duda uno\n1          3   5.43   9.090  de los shows mÃ¡s raros de la gira moto\n2          4   6.87  15.990        al sur y probablemente uno de los\n3          5   9.09  18.150  mejores pero bueno los shows de la gira\n4          6  15.99  21.119   en moto no se hacen en grandes teatros",
      "text/html": "<div>\n<style scoped>\n    .dataframe tbody tr th:only-of-type {\n        vertical-align: middle;\n    }\n\n    .dataframe tbody tr th {\n        vertical-align: top;\n    }\n\n    .dataframe thead th {\n        text-align: right;\n    }\n</style>\n<table border=\"1\" class=\"dataframe\">\n  <thead>\n    <tr style=\"text-align: right;\">\n      <th></th>\n      <th>orig_index</th>\n      <th>start</th>\n      <th>end</th>\n      <th>transcript</th>\n    </tr>\n  </thead>\n  <tbody>\n    <tr>\n      <th>0</th>\n      <td>2</td>\n      <td>3.27</td>\n      <td>6.870</td>\n      <td>problema de este lugar web sin duda uno</td>\n    </tr>\n    <tr>\n      <th>1</th>\n      <td>3</td>\n      <td>5.43</td>\n      <td>9.090</td>\n      <td>de los shows mÃ¡s raros de la gira moto</td>\n    </tr>\n    <tr>\n      <th>2</th>\n      <td>4</td>\n      <td>6.87</td>\n      <td>15.990</td>\n      <td>al sur y probablemente uno de los</td>\n    </tr>\n    <tr>\n      <th>3</th>\n      <td>5</td>\n      <td>9.09</td>\n      <td>18.150</td>\n      <td>mejores pero bueno los shows de la gira</td>\n    </tr>\n    <tr>\n      <th>4</th>\n      <td>6</td>\n      <td>15.99</td>\n      <td>21.119</td>\n      <td>en moto no se hacen en grandes teatros</td>\n    </tr>\n  </tbody>\n</table>\n</div>"
     },
     "execution_count": 9,
     "metadata": {},
     "output_type": "execute_result"
    }
   ],
   "source": [
    "# Debugging adaptor function\n",
    "frame_test = youtube2df('test.txt')\n",
    "frame_test.head()"
   ],
   "metadata": {
    "collapsed": false,
    "pycharm": {
     "name": "#%%\n"
    }
   }
  },
  {
   "cell_type": "code",
   "execution_count": 27,
   "outputs": [
    {
     "data": {
      "text/plain": "  orig_index    start      end  \\\n0          1  103.916  107.333   \n1          2  110.083  111.375   \n2          3  111.375  113.541   \n3          4  114.916  116.833   \n4          5  126.916  128.416   \n5          6  130.916  132.833   \n6          7  133.333  136.458   \n7          8  140.208  141.916   \n8          9  144.333  146.916   \n9         10  147.083  149.208   \n\n                                        transcript  \\\n0  ¡Me ha traído puros problemas este lugar, weón!   \n1      <b>Me voy a electrocutar ahora, culiao.</b>   \n2               <b>Te apuesto, eso va a pasar.</b>   \n3                   <b>Tomás, culiao, también.</b>   \n4                               <b>Ay, weón...</b>   \n5                              <b>Ya seguimos.</b>   \n6               <b>Ya, tirar agua a donde sea.</b>   \n7                               <b>Tirar agua.</b>   \n8    <b>Qué weá estaba diciendo antes de esta…</b>   \n9                       <b>Pero mira esta weá.</b>   \n\n                                      aws_transcript  \n0  lo puro problema este lugar Bueno lo puro prob...  \n1  voy a tributar ahora Cuidado voy a tributar ah...  \n2  puedes Todo esto va a pasar puedes Todo esto v...  \n3                              Toma Julia Toma Julia  \n4                                            Hay Hay  \n5                                  Seguimos Seguimos  \n6                              tirar agua tirar agua  \n7                                          agua agua  \n8  Bueno estaba diciendo antes de todo Bueno esta...  \n9                                  te voy a te voy a  ",
      "text/html": "<div>\n<style scoped>\n    .dataframe tbody tr th:only-of-type {\n        vertical-align: middle;\n    }\n\n    .dataframe tbody tr th {\n        vertical-align: top;\n    }\n\n    .dataframe thead th {\n        text-align: right;\n    }\n</style>\n<table border=\"1\" class=\"dataframe\">\n  <thead>\n    <tr style=\"text-align: right;\">\n      <th></th>\n      <th>orig_index</th>\n      <th>start</th>\n      <th>end</th>\n      <th>transcript</th>\n      <th>aws_transcript</th>\n    </tr>\n  </thead>\n  <tbody>\n    <tr>\n      <th>0</th>\n      <td>1</td>\n      <td>103.916</td>\n      <td>107.333</td>\n      <td>¡Me ha traído puros problemas este lugar, weón!</td>\n      <td>lo puro problema este lugar Bueno lo puro prob...</td>\n    </tr>\n    <tr>\n      <th>1</th>\n      <td>2</td>\n      <td>110.083</td>\n      <td>111.375</td>\n      <td>&lt;b&gt;Me voy a electrocutar ahora, culiao.&lt;/b&gt;</td>\n      <td>voy a tributar ahora Cuidado voy a tributar ah...</td>\n    </tr>\n    <tr>\n      <th>2</th>\n      <td>3</td>\n      <td>111.375</td>\n      <td>113.541</td>\n      <td>&lt;b&gt;Te apuesto, eso va a pasar.&lt;/b&gt;</td>\n      <td>puedes Todo esto va a pasar puedes Todo esto v...</td>\n    </tr>\n    <tr>\n      <th>3</th>\n      <td>4</td>\n      <td>114.916</td>\n      <td>116.833</td>\n      <td>&lt;b&gt;Tomás, culiao, también.&lt;/b&gt;</td>\n      <td>Toma Julia Toma Julia</td>\n    </tr>\n    <tr>\n      <th>4</th>\n      <td>5</td>\n      <td>126.916</td>\n      <td>128.416</td>\n      <td>&lt;b&gt;Ay, weón...&lt;/b&gt;</td>\n      <td>Hay Hay</td>\n    </tr>\n    <tr>\n      <th>5</th>\n      <td>6</td>\n      <td>130.916</td>\n      <td>132.833</td>\n      <td>&lt;b&gt;Ya seguimos.&lt;/b&gt;</td>\n      <td>Seguimos Seguimos</td>\n    </tr>\n    <tr>\n      <th>6</th>\n      <td>7</td>\n      <td>133.333</td>\n      <td>136.458</td>\n      <td>&lt;b&gt;Ya, tirar agua a donde sea.&lt;/b&gt;</td>\n      <td>tirar agua tirar agua</td>\n    </tr>\n    <tr>\n      <th>7</th>\n      <td>8</td>\n      <td>140.208</td>\n      <td>141.916</td>\n      <td>&lt;b&gt;Tirar agua.&lt;/b&gt;</td>\n      <td>agua agua</td>\n    </tr>\n    <tr>\n      <th>8</th>\n      <td>9</td>\n      <td>144.333</td>\n      <td>146.916</td>\n      <td>&lt;b&gt;Qué weá estaba diciendo antes de esta…&lt;/b&gt;</td>\n      <td>Bueno estaba diciendo antes de todo Bueno esta...</td>\n    </tr>\n    <tr>\n      <th>9</th>\n      <td>10</td>\n      <td>147.083</td>\n      <td>149.208</td>\n      <td>&lt;b&gt;Pero mira esta weá.&lt;/b&gt;</td>\n      <td>te voy a te voy a</td>\n    </tr>\n  </tbody>\n</table>\n</div>"
     },
     "execution_count": 27,
     "metadata": {},
     "output_type": "execute_result"
    }
   ],
   "source": [
    "# Create a concatenation of text for each time interval in validation data\n",
    "# IMPORTANT: We assume words are in order!\n",
    "\n",
    "# load validation\n",
    "valid = youtube2df('./EdoCaroe/video_0_es-419.txt')\n",
    "\n",
    "# load model output\n",
    "predicted = aws2df('video_0.json').astype({'start':'float', 'end':'float', 'transcript':'string'})\n",
    "\n",
    "# both dfs must have start and end times in same format and concatenated field\n",
    "def compress(df_reference, df_to_modify, field='transcript'):\n",
    "\n",
    "    container = []\n",
    "\n",
    "    # for each interval we find a sub-df with all the content\n",
    "    for start, end in zip(df_reference['start'], df_reference['end']):\n",
    "        # sub-df\n",
    "        sub_df = df_to_modify[(df_to_modify['start'] >= start) & (df_to_modify['end'] <= end)]\n",
    "\n",
    "        # now concatenate every word\n",
    "        words = [a_word for a_word in sub_df[field]]\n",
    "\n",
    "        container.append(' '.join(word for word in words))\n",
    "\n",
    "    return container\n",
    "\n",
    "valid['aws_transcript'] = compress(valid, predicted)\n",
    "valid.head(10)\n"
   ],
   "metadata": {
    "collapsed": false,
    "pycharm": {
     "name": "#%%\n"
    }
   }
  }
 ],
 "metadata": {
  "kernelspec": {
   "display_name": "Python 3",
   "language": "python",
   "name": "python3"
  },
  "language_info": {
   "codemirror_mode": {
    "name": "ipython",
    "version": 2
   },
   "file_extension": ".py",
   "mimetype": "text/x-python",
   "name": "python",
   "nbconvert_exporter": "python",
   "pygments_lexer": "ipython2",
   "version": "2.7.6"
  }
 },
 "nbformat": 4,
 "nbformat_minor": 0
}